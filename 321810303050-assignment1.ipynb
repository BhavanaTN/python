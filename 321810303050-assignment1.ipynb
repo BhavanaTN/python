{
 "cells": [
  {
   "cell_type": "markdown",
   "metadata": {},
   "source": [
    "write a program to design a simple calculator"
   ]
  },
  {
   "cell_type": "code",
   "execution_count": 3,
   "metadata": {},
   "outputs": [
    {
     "name": "stdout",
     "output_type": "stream",
     "text": [
      "Select operation.\n",
      "1.Add\n",
      "2.Subtract\n",
      "3.Multiply\n",
      "4.Divide\n",
      "5.Modulus\n",
      "6.exponent\n",
      "7.floor division\n",
      "Enter choice(1/2/3/4/5/6/7): 7\n",
      "Enter first number: -4\n",
      "Enter second number: 3\n",
      "-4.0 // 3.0 = -2.0\n"
     ]
    }
   ],
   "source": [
    "def add(x, y):\n",
    "    return x + y\n",
    "\n",
    "def subtract(x, y):\n",
    "    return x - y\n",
    "\n",
    "def multiply(x, y):\n",
    "    return x * y\n",
    "\n",
    "def divide(x, y):\n",
    "    return x / y\n",
    "\n",
    "def modulus(x,y):\n",
    "    return x % y\n",
    "\n",
    "def exponent(x,y):\n",
    "    return x ** y\n",
    "\n",
    "def floordivision(x,y):\n",
    "    return x // y\n",
    "\n",
    "print(\"Select operation.\")\n",
    "print(\"1.Add\")\n",
    "print(\"2.Subtract\")\n",
    "print(\"3.Multiply\")\n",
    "print(\"4.Divide\")\n",
    "print(\"5.Modulus\")\n",
    "print(\"6.exponent\")\n",
    "print(\"7.floor division\")\n",
    "\n",
    "while True:\n",
    "    choice = input(\"Enter choice(1/2/3/4/5/6/7): \")\n",
    "\n",
    "    if choice in ('1', '2', '3', '4','5','6','7'):\n",
    "        num1 = float(input(\"Enter first number: \"))\n",
    "        num2 = float(input(\"Enter second number: \"))\n",
    "\n",
    "        if choice == '1':\n",
    "            print(num1, \"+\", num2, \"=\", add(num1, num2))\n",
    "\n",
    "        elif choice == '2':\n",
    "            print(num1, \"-\", num2, \"=\", subtract(num1, num2))\n",
    "\n",
    "        elif choice == '3':\n",
    "            print(num1, \"*\", num2, \"=\", multiply(num1, num2))\n",
    "\n",
    "        elif choice == '4':\n",
    "            print(num1, \"/\", num2, \"=\", divide(num1, num2))\n",
    "            \n",
    "        elif choice == '5':\n",
    "            print(num1, \"%\", num2, \"=\", modulus(num1, num2))\n",
    "            \n",
    "        elif choice == '6':\n",
    "            print(num1, \"**\", num2, \"=\", exponent(num1, num2))\n",
    "            \n",
    "        elif choice == '7':\n",
    "            print(num1, \"//\", num2, \"=\", floordivision(num1, num2))\n",
    "\n",
    "\n",
    "\n",
    "        break\n",
    "    else:\n",
    "        print(\"Invalid Input\")"
   ]
  },
  {
   "cell_type": "markdown",
   "metadata": {},
   "source": [
    "write a python program to calculate simple interest"
   ]
  },
  {
   "cell_type": "code",
   "execution_count": 6,
   "metadata": {},
   "outputs": [
    {
     "name": "stdout",
     "output_type": "stream",
     "text": [
      "enter principal4000\n",
      "enter time2\n",
      "enter interest2\n",
      "The principal is 4000.0\n",
      "The time period is 2.0\n",
      "The rate of interest is 2.0\n",
      "The Simple Interest is 160.0\n"
     ]
    },
    {
     "data": {
      "text/plain": [
       "160.0"
      ]
     },
     "execution_count": 6,
     "metadata": {},
     "output_type": "execute_result"
    }
   ],
   "source": [
    "def simple_interest(p,t,r): \n",
    "    print('The principal is', p) \n",
    "    print('The time period is', t) \n",
    "    print('The rate of interest is',r) \n",
    "      \n",
    "    si = (p * t * r)/100\n",
    "      \n",
    "    print('The Simple Interest is', si) \n",
    "    return si\n",
    "a=float(input(\"enter principal\"))\n",
    "b=float(input(\"enter time\"))\n",
    "c=float(input(\"enter interest\"))\n",
    "simple_interest(a,b,c) "
   ]
  },
  {
   "cell_type": "markdown",
   "metadata": {},
   "source": [
    "write a python program to calculate area of circle\n"
   ]
  },
  {
   "cell_type": "code",
   "execution_count": 4,
   "metadata": {},
   "outputs": [
    {
     "name": "stdout",
     "output_type": "stream",
     "text": [
      "Enter the radius of the circle: 3\n",
      "area of circle:28.259999999999998\n"
     ]
    }
   ],
   "source": [
    "PI = 3.14\n",
    "r = float(input(\"Enter the radius of the circle: \"))\n",
    "area = PI * r * r\n",
    "print(\"area of circle:\" +str(area))\n"
   ]
  },
  {
   "cell_type": "markdown",
   "metadata": {},
   "source": [
    "write a program to calculate area of triangle"
   ]
  },
  {
   "cell_type": "code",
   "execution_count": 7,
   "metadata": {},
   "outputs": [
    {
     "name": "stdout",
     "output_type": "stream",
     "text": [
      "Enter first side: 5\n",
      "Enter second side: 6\n",
      "Enter third side: 7\n",
      "The area of the triangle is14.696938456699069\n"
     ]
    }
   ],
   "source": [
    "a = float(input('Enter first side: '))\n",
    "b = float(input('Enter second side: '))\n",
    "c = float(input('Enter third side: '))\n",
    "s = (a + b + c) / 2\n",
    "area = (s*(s-a)*(s-b)*(s-c)) ** 0.5\n",
    "print('The area of the triangle is' +str(area))"
   ]
  },
  {
   "cell_type": "markdown",
   "metadata": {},
   "source": [
    "write a program to conver celsius to fahrenheit"
   ]
  },
  {
   "cell_type": "code",
   "execution_count": 10,
   "metadata": {},
   "outputs": [
    {
     "name": "stdout",
     "output_type": "stream",
     "text": [
      "32.0 degree Celsius is equal to 89.6 degree Fahrenheit\n"
     ]
    }
   ],
   "source": [
    "celsius = 32\n",
    "fahrenheit = (celsius * 1.8) + 32\n",
    "print('%0.1f degree Celsius is equal to %0.1f degree Fahrenheit' %(celsius,fahrenheit))"
   ]
  },
  {
   "cell_type": "markdown",
   "metadata": {},
   "source": [
    "write a program to find area of rectangle"
   ]
  },
  {
   "cell_type": "code",
   "execution_count": 21,
   "metadata": {},
   "outputs": [
    {
     "name": "stdout",
     "output_type": "stream",
     "text": [
      "enter length:7\n",
      "enter breadth:9\n",
      "63.0\n"
     ]
    }
   ],
   "source": [
    "l = float(input(\"enter length:\"))\n",
    "b = float(input(\"enter breadth:\"))\n",
    "def area(a,b):\n",
    "    print( a * b)\n",
    "area(l,b)\n",
    " \n"
   ]
  },
  {
   "cell_type": "markdown",
   "metadata": {},
   "source": [
    "write a program to find perimeter of square"
   ]
  },
  {
   "cell_type": "code",
   "execution_count": 24,
   "metadata": {},
   "outputs": [
    {
     "name": "stdout",
     "output_type": "stream",
     "text": [
      "side:7\n",
      "perimeter28.0\n"
     ]
    }
   ],
   "source": [
    "def perimeter(a): \n",
    "        return (4 * a)  \n",
    "a = float(input(\"side:\"))\n",
    "c = perimeter(a) \n",
    "print(\"perimeter\"+str(c)) \n"
   ]
  },
  {
   "cell_type": "markdown",
   "metadata": {},
   "source": [
    "write a program to calculate circumference of a circle"
   ]
  },
  {
   "cell_type": "code",
   "execution_count": 2,
   "metadata": {},
   "outputs": [
    {
     "name": "stdout",
     "output_type": "stream",
     "text": [
      "Enter the radius of the circle: 4\n",
      "circumference of circle:25.12\n"
     ]
    }
   ],
   "source": [
    "PI = 3.14\n",
    "r = float(input(\"Enter the radius of the circle: \"))\n",
    "c = 2 * PI * r\n",
    "print(\"circumference of circle:\" +str(c))"
   ]
  },
  {
   "cell_type": "markdown",
   "metadata": {},
   "source": [
    " write a program to swap two numbers"
   ]
  },
  {
   "cell_type": "code",
   "execution_count": 10,
   "metadata": {},
   "outputs": [
    {
     "name": "stdout",
     "output_type": "stream",
     "text": [
      "enter a:8\n",
      "enter b:9\n",
      "before swap\n",
      "a= 8\n",
      "b= 9\n",
      "after swap\n",
      "a= 9\n",
      "b= 8\n"
     ]
    }
   ],
   "source": [
    "num1=int(input(\"enter a:\"))\n",
    "num2=int(input(\"enter b:\"))\n",
    "print(\"before swap\")\n",
    "print('a=',num1)\n",
    "print('b=',num2)\n",
    "t=num1\n",
    "num1=num2\n",
    "num2=t\n",
    "print(\"after swap\")\n",
    "print('a=',str(num1))\n",
    "print('b=',str(num2))\n"
   ]
  },
  {
   "cell_type": "code",
   "execution_count": null,
   "metadata": {},
   "outputs": [],
   "source": []
  },
  {
   "cell_type": "code",
   "execution_count": null,
   "metadata": {},
   "outputs": [],
   "source": []
  }
 ],
 "metadata": {
  "kernelspec": {
   "display_name": "Python 3",
   "language": "python",
   "name": "python3"
  },
  "language_info": {
   "codemirror_mode": {
    "name": "ipython",
    "version": 3
   },
   "file_extension": ".py",
   "mimetype": "text/x-python",
   "name": "python",
   "nbconvert_exporter": "python",
   "pygments_lexer": "ipython3",
   "version": "3.7.6"
  }
 },
 "nbformat": 4,
 "nbformat_minor": 4
}
